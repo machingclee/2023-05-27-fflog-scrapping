{
 "cells": [
  {
   "cell_type": "code",
   "execution_count": 274,
   "id": "84111351-0d09-4913-bb7b-579400a347ab",
   "metadata": {},
   "outputs": [],
   "source": [
    "from selenium import webdriver\n",
    "from bs4 import BeautifulSoup\n",
    "from selenium.webdriver.common.keys import Keys\n",
    "from selenium.webdriver.common.action_chains import ActionChains\n",
    "from selenium.webdriver.common.by import By\n",
    "from selenium.webdriver.support.ui import WebDriverWait\n",
    "from selenium.webdriver.support import expected_conditions as EC\n",
    "from selenium.webdriver.common.desired_capabilities import DesiredCapabilities\n",
    "import re"
   ]
  },
  {
   "cell_type": "code",
   "execution_count": 275,
   "id": "5c779103-dcb2-4399-8a30-48a5280ac9c1",
   "metadata": {},
   "outputs": [],
   "source": [
    "import time"
   ]
  },
  {
   "cell_type": "code",
   "execution_count": 276,
   "id": "9d9804f4-9d34-4b78-98ee-6a995013aeca",
   "metadata": {},
   "outputs": [],
   "source": [
    "# default search method to wait: query select all\n",
    "def wait_element(_driver, search_txt, by_method=By.CSS_SELECTOR, seconds=10):\n",
    "  ele = WebDriverWait(_driver, seconds).until(\n",
    "      EC.presence_of_all_elements_located((by_method, search_txt))\n",
    "    )\n",
    "  return ele"
   ]
  },
  {
   "cell_type": "code",
   "execution_count": 277,
   "id": "d4d6a562-306d-46db-a237-21000d8aa14e",
   "metadata": {},
   "outputs": [],
   "source": [
    "url=\"https://www.fflogs.com/zone/reports?zone=53\""
   ]
  },
  {
   "cell_type": "code",
   "execution_count": 278,
   "id": "be8540aa-11e0-4dac-9395-dca9a5021ec5",
   "metadata": {},
   "outputs": [],
   "source": [
    "caps = DesiredCapabilities().CHROME\n",
    "caps[\"pageLoadStrategy\"] = \"eager\"\n",
    "driver = webdriver.Chrome(desired_capabilities=caps, executable_path=\"C:\\\\dev\\\\chrome-driver\\\\chromedriver.exe\")\n",
    "driver.get(url)"
   ]
  },
  {
   "cell_type": "code",
   "execution_count": 279,
   "id": "08d6d0e8-4ca5-49d5-9f47-a76203ddd7f4",
   "metadata": {},
   "outputs": [],
   "source": [
    "reports = wait_element(driver, \"#reports-table a[href*='/reports']\")"
   ]
  },
  {
   "cell_type": "code",
   "execution_count": 280,
   "id": "44b08ea4-2b98-4491-bfc7-995319c6208c",
   "metadata": {},
   "outputs": [
    {
     "data": {
      "text/plain": [
       "100"
      ]
     },
     "execution_count": 280,
     "metadata": {},
     "output_type": "execute_result"
    }
   ],
   "source": [
    "len(reports)"
   ]
  },
  {
   "cell_type": "code",
   "execution_count": 281,
   "id": "61e5f8f8-5d9f-40b1-827f-f944e0487206",
   "metadata": {},
   "outputs": [
    {
     "name": "stdout",
     "output_type": "stream",
     "text": [
      "handing report The Omega Protocol\n"
     ]
    },
    {
     "name": "stderr",
     "output_type": "stream",
     "text": [
      "C:\\Users\\user\\AppData\\Local\\Temp\\ipykernel_50236\\1212316370.py:35: DeprecationWarning: use driver.switch_to.window instead\n",
      "  driver.switch_to_window(driver.window_handles[0])\n"
     ]
    },
    {
     "name": "stdout",
     "output_type": "stream",
     "text": [
      "handing report The Omega Protocol\n",
      "handing report The Omega Protocol\n",
      "handing report 欧米茄绝境战\n",
      "handing report The Omega Protocol\n",
      "handing report The Omega Protocol\n"
     ]
    },
    {
     "ename": "NoSuchWindowException",
     "evalue": "Message: no such window: target window already closed\nfrom unknown error: web view not found\n  (Session info: chrome=113.0.5672.127)\n",
     "output_type": "error",
     "traceback": [
      "\u001b[1;31m---------------------------------------------------------------------------\u001b[0m",
      "\u001b[1;31mNoSuchWindowException\u001b[0m                     Traceback (most recent call last)",
      "Input \u001b[1;32mIn [281]\u001b[0m, in \u001b[0;36m<cell line: 15>\u001b[1;34m()\u001b[0m\n\u001b[0;32m     29\u001b[0m   names \u001b[38;5;241m+\u001b[39m\u001b[38;5;241m=\u001b[39m names_\n\u001b[0;32m     30\u001b[0m   driver\u001b[38;5;241m.\u001b[39mclose()\n\u001b[1;32m---> 31\u001b[0m   \u001b[43mdriver\u001b[49m\u001b[38;5;241;43m.\u001b[39;49m\u001b[43mclose\u001b[49m\u001b[43m(\u001b[49m\u001b[43m)\u001b[49m\n\u001b[0;32m     32\u001b[0m \u001b[38;5;28;01melse\u001b[39;00m:\n\u001b[0;32m     33\u001b[0m   driver\u001b[38;5;241m.\u001b[39mclose()\n",
      "File \u001b[1;32m~\\anaconda3\\envs\\data-scrapping\\lib\\site-packages\\selenium\\webdriver\\remote\\webdriver.py:688\u001b[0m, in \u001b[0;36mWebDriver.close\u001b[1;34m(self)\u001b[0m\n\u001b[0;32m    681\u001b[0m \u001b[38;5;28;01mdef\u001b[39;00m \u001b[38;5;21mclose\u001b[39m(\u001b[38;5;28mself\u001b[39m):\n\u001b[0;32m    682\u001b[0m     \u001b[38;5;124;03m\"\"\"\u001b[39;00m\n\u001b[0;32m    683\u001b[0m \u001b[38;5;124;03m    Closes the current window.\u001b[39;00m\n\u001b[0;32m    684\u001b[0m \n\u001b[0;32m    685\u001b[0m \u001b[38;5;124;03m    :Usage:\u001b[39;00m\n\u001b[0;32m    686\u001b[0m \u001b[38;5;124;03m        driver.close()\u001b[39;00m\n\u001b[0;32m    687\u001b[0m \u001b[38;5;124;03m    \"\"\"\u001b[39;00m\n\u001b[1;32m--> 688\u001b[0m     \u001b[38;5;28;43mself\u001b[39;49m\u001b[38;5;241;43m.\u001b[39;49m\u001b[43mexecute\u001b[49m\u001b[43m(\u001b[49m\u001b[43mCommand\u001b[49m\u001b[38;5;241;43m.\u001b[39;49m\u001b[43mCLOSE\u001b[49m\u001b[43m)\u001b[49m\n",
      "File \u001b[1;32m~\\anaconda3\\envs\\data-scrapping\\lib\\site-packages\\selenium\\webdriver\\remote\\webdriver.py:321\u001b[0m, in \u001b[0;36mWebDriver.execute\u001b[1;34m(self, driver_command, params)\u001b[0m\n\u001b[0;32m    319\u001b[0m response \u001b[38;5;241m=\u001b[39m \u001b[38;5;28mself\u001b[39m\u001b[38;5;241m.\u001b[39mcommand_executor\u001b[38;5;241m.\u001b[39mexecute(driver_command, params)\n\u001b[0;32m    320\u001b[0m \u001b[38;5;28;01mif\u001b[39;00m response:\n\u001b[1;32m--> 321\u001b[0m     \u001b[38;5;28;43mself\u001b[39;49m\u001b[38;5;241;43m.\u001b[39;49m\u001b[43merror_handler\u001b[49m\u001b[38;5;241;43m.\u001b[39;49m\u001b[43mcheck_response\u001b[49m\u001b[43m(\u001b[49m\u001b[43mresponse\u001b[49m\u001b[43m)\u001b[49m\n\u001b[0;32m    322\u001b[0m     response[\u001b[38;5;124m'\u001b[39m\u001b[38;5;124mvalue\u001b[39m\u001b[38;5;124m'\u001b[39m] \u001b[38;5;241m=\u001b[39m \u001b[38;5;28mself\u001b[39m\u001b[38;5;241m.\u001b[39m_unwrap_value(\n\u001b[0;32m    323\u001b[0m         response\u001b[38;5;241m.\u001b[39mget(\u001b[38;5;124m'\u001b[39m\u001b[38;5;124mvalue\u001b[39m\u001b[38;5;124m'\u001b[39m, \u001b[38;5;28;01mNone\u001b[39;00m))\n\u001b[0;32m    324\u001b[0m     \u001b[38;5;28;01mreturn\u001b[39;00m response\n",
      "File \u001b[1;32m~\\anaconda3\\envs\\data-scrapping\\lib\\site-packages\\selenium\\webdriver\\remote\\errorhandler.py:242\u001b[0m, in \u001b[0;36mErrorHandler.check_response\u001b[1;34m(self, response)\u001b[0m\n\u001b[0;32m    240\u001b[0m         alert_text \u001b[38;5;241m=\u001b[39m value[\u001b[38;5;124m'\u001b[39m\u001b[38;5;124malert\u001b[39m\u001b[38;5;124m'\u001b[39m]\u001b[38;5;241m.\u001b[39mget(\u001b[38;5;124m'\u001b[39m\u001b[38;5;124mtext\u001b[39m\u001b[38;5;124m'\u001b[39m)\n\u001b[0;32m    241\u001b[0m     \u001b[38;5;28;01mraise\u001b[39;00m exception_class(message, screen, stacktrace, alert_text)\n\u001b[1;32m--> 242\u001b[0m \u001b[38;5;28;01mraise\u001b[39;00m exception_class(message, screen, stacktrace)\n",
      "\u001b[1;31mNoSuchWindowException\u001b[0m: Message: no such window: target window already closed\nfrom unknown error: web view not found\n  (Session info: chrome=113.0.5672.127)\n"
     ]
    }
   ],
   "source": [
    "def non_empty_predicate(a):\n",
    "  return a.text != \"\"\n",
    "\n",
    "def format_result(_driver, anchor):\n",
    "  return {\n",
    "    \"curr_link\": _driver.current_url,\n",
    "    \"name\": anchor.text\n",
    "  }\n",
    "\n",
    "def control_click(_driver, anchor):\n",
    "  ActionChains(_driver).key_down(Keys.CONTROL).click(anchor).key_up(Keys.CONTROL).perform()\n",
    "\n",
    "names = []\n",
    "\n",
    "for i in range(0, len(reports)):\n",
    "  print(\"handing report\", reports[i].text)\n",
    "  report_anchor = reports[i]\n",
    "  control_click(driver, report_anchor)\n",
    "  driver.switch_to.window(driver.window_handles[1])\n",
    "  # detail of the report, we are only interested in those omega kill log:\n",
    "  rows = wait_element(driver, \"a[class*='report-overview-boss']\")\n",
    "  omega_kills = [row for row in rows if re.search(\"TheOmegaProtocolKill\",  re.sub(\"\\\\s\", \"\", row.text)) is not None]\n",
    "\n",
    "  if len(omega_kills) > 0:\n",
    "    control_click(driver, omega_kills[0])\n",
    "    driver.switch_to.window(driver.window_handles[2])\n",
    "    name_anchors = driver.find_elements(\"css selector\", \"#summary-damage-done-scroller-0 tr[role='row'] a.tooltip\" )\n",
    "    names_ = [format_result(driver, anchor) for anchor in name_anchors]\n",
    "    names += names_\n",
    "    driver.close()\n",
    "    driver.close()\n",
    "  else:\n",
    "    driver.close()\n",
    "  \n",
    "  driver.switch_to.window(driver.window_handles[0])"
   ]
  },
  {
   "cell_type": "code",
   "execution_count": 273,
   "id": "1a92f092-0f50-4fcf-937a-0a1c97f99f75",
   "metadata": {},
   "outputs": [
    {
     "data": {
      "text/plain": [
       "[]"
      ]
     },
     "execution_count": 273,
     "metadata": {},
     "output_type": "execute_result"
    }
   ],
   "source": [
    "names"
   ]
  },
  {
   "cell_type": "code",
   "execution_count": 102,
   "id": "2a543436-867f-4086-ace3-129bf76ab920",
   "metadata": {},
   "outputs": [],
   "source": [
    "Last Pull - Wipe (3:05) - 65% P2 9:42 PM.index(\"Last Pull \")"
   ]
  },
  {
   "cell_type": "code",
   "execution_count": 200,
   "id": "d97b0b88-8c42-4fab-86e3-0c2e4799dc1e",
   "metadata": {},
   "outputs": [
    {
     "data": {
      "text/plain": [
       "True"
      ]
     },
     "execution_count": 200,
     "metadata": {},
     "output_type": "execute_result"
    }
   ],
   "source": [
    "a = \"TheOmegaProtocolKillsdfsfdsfs\"\n",
    "re.search(\"xxThe\", a) == None"
   ]
  },
  {
   "cell_type": "code",
   "execution_count": 127,
   "id": "dee284db-e4cb-4031-8195-0cf22ea44968",
   "metadata": {},
   "outputs": [],
   "source": []
  },
  {
   "cell_type": "code",
   "execution_count": 128,
   "id": "d5e26a11-cbe4-4a1b-8e5a-da1bc7269a67",
   "metadata": {},
   "outputs": [],
   "source": []
  },
  {
   "cell_type": "code",
   "execution_count": 129,
   "id": "64d42d3e-0c79-4dec-8d69-2d5ef29566c2",
   "metadata": {},
   "outputs": [
    {
     "data": {
      "text/plain": [
       "[<selenium.webdriver.remote.webelement.WebElement (session=\"585c643162e575abf143222864e1b7f6\", element=\"C8AB5AE21D142531585F1F24D0E57568_element_963\")>,\n",
       " <selenium.webdriver.remote.webelement.WebElement (session=\"585c643162e575abf143222864e1b7f6\", element=\"C8AB5AE21D142531585F1F24D0E57568_element_964\")>,\n",
       " <selenium.webdriver.remote.webelement.WebElement (session=\"585c643162e575abf143222864e1b7f6\", element=\"C8AB5AE21D142531585F1F24D0E57568_element_965\")>]"
      ]
     },
     "execution_count": 129,
     "metadata": {},
     "output_type": "execute_result"
    }
   ],
   "source": [
    "wipes"
   ]
  },
  {
   "cell_type": "code",
   "execution_count": 130,
   "id": "e42fee88-de4e-4398-978d-ef562293da4e",
   "metadata": {},
   "outputs": [],
   "source": []
  },
  {
   "cell_type": "code",
   "execution_count": 141,
   "id": "a52f2be0-4104-4703-9fbf-514c2ec88937",
   "metadata": {},
   "outputs": [],
   "source": []
  },
  {
   "cell_type": "code",
   "execution_count": 142,
   "id": "a2dda1f4-f5f3-4fb1-b11a-b3df94d6db56",
   "metadata": {},
   "outputs": [
    {
     "data": {
      "text/plain": [
       "['Inori Rain',\n",
       " 'Puramu Kusano',\n",
       " 'Yui Onchi',\n",
       " 'Bi Boo',\n",
       " 'Yuri Hoshinova',\n",
       " 'Rb Syue',\n",
       " 'Shimamura Miya',\n",
       " \"F'ting Shuo\"]"
      ]
     },
     "execution_count": 142,
     "metadata": {},
     "output_type": "execute_result"
    }
   ],
   "source": [
    "list(names)"
   ]
  },
  {
   "cell_type": "code",
   "execution_count": 143,
   "id": "d666bab3-4bf9-425d-ba6e-5f5e6a53ea0a",
   "metadata": {},
   "outputs": [],
   "source": [
    "driver.back()\n",
    "driver.back()"
   ]
  },
  {
   "cell_type": "code",
   "execution_count": null,
   "id": "74c231e0-b7d7-4b2b-b3d0-1886a5f5b260",
   "metadata": {},
   "outputs": [],
   "source": []
  }
 ],
 "metadata": {
  "kernelspec": {
   "display_name": "data-scrapping",
   "language": "python",
   "name": "data-scrapping"
  },
  "language_info": {
   "codemirror_mode": {
    "name": "ipython",
    "version": 3
   },
   "file_extension": ".py",
   "mimetype": "text/x-python",
   "name": "python",
   "nbconvert_exporter": "python",
   "pygments_lexer": "ipython3",
   "version": "3.8.16"
  }
 },
 "nbformat": 4,
 "nbformat_minor": 5
}
